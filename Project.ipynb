{
  "nbformat": 4,
  "nbformat_minor": 0,
  "metadata": {
    "colab": {
      "name": "Project",
      "provenance": [],
      "authorship_tag": "ABX9TyNK11klwRy9j6vUnQMBa/ML",
      "include_colab_link": true
    },
    "kernelspec": {
      "name": "python3",
      "display_name": "Python 3"
    },
    "language_info": {
      "name": "python"
    }
  },
  "cells": [
    {
      "cell_type": "markdown",
      "metadata": {
        "id": "view-in-github",
        "colab_type": "text"
      },
      "source": [
        "<a href=\"https://colab.research.google.com/github/litsee/E11-Lab-Work/blob/main/Project.ipynb\" target=\"_parent\"><img src=\"https://colab.research.google.com/assets/colab-badge.svg\" alt=\"Open In Colab\"/></a>"
      ]
    },
    {
      "cell_type": "code",
      "source": [
        "import math\n",
        "import numpy as np\n",
        "from math import sqrt\n",
        "\n",
        "moffitt=4.67/sqrt(76)\n",
        "doe=5.01/sqrt(76)\n",
        "engineering=2.96/sqrt(66)\n",
        "ethnic=6.27/sqrt(76)\n",
        "eastasian=3.83/sqrt(64)\n",
        "music=7.8/sqrt(70)\n",
        "\n",
        "print(moffitt)\n",
        "print(doe)\n",
        "print(engineering)\n",
        "print(ethnic)\n",
        "print(eastasian)\n",
        "print(music)\n"
      ],
      "metadata": {
        "colab": {
          "base_uri": "https://localhost:8080/"
        },
        "id": "hiaab7M_dIZy",
        "outputId": "51ac0f0c-0725-428a-c8e4-faa6f713c365"
      },
      "execution_count": 13,
      "outputs": [
        {
          "output_type": "stream",
          "name": "stdout",
          "text": [
            "0.5356857385877617\n",
            "0.5746864133457571\n",
            "0.36435081329882485\n",
            "0.7192183256842111\n",
            "0.47875\n",
            "0.932278315280827\n"
          ]
        }
      ]
    },
    {
      "cell_type": "code",
      "source": [
        "unavg=sqrt(engineering**2+music**2)\n",
        "print(unavg)"
      ],
      "metadata": {
        "colab": {
          "base_uri": "https://localhost:8080/"
        },
        "id": "3K1nGQi0dt2l",
        "outputId": "c3cd9a3a-b877-437f-bf7e-4c74652cba5f"
      },
      "execution_count": 16,
      "outputs": [
        {
          "output_type": "stream",
          "name": "stdout",
          "text": [
            "1.0009467379907746\n"
          ]
        }
      ]
    },
    {
      "cell_type": "code",
      "source": [
        "unavg2=sqrt(engineering**2+moffitt**2)\n",
        "print(unavg2)"
      ],
      "metadata": {
        "colab": {
          "base_uri": "https://localhost:8080/"
        },
        "id": "fPazM8osQyb-",
        "outputId": "e832ab11-aee4-4f2b-c3e0-9deb82f96947"
      },
      "execution_count": 17,
      "outputs": [
        {
          "output_type": "stream",
          "name": "stdout",
          "text": [
            "0.6478508514139893\n"
          ]
        }
      ]
    },
    {
      "cell_type": "code",
      "source": [
        "unavg3=sqrt(ethnic**2+music**2)\n",
        "print(unavg3)"
      ],
      "metadata": {
        "colab": {
          "base_uri": "https://localhost:8080/"
        },
        "id": "UXSRaCjNTd8n",
        "outputId": "bc9a13e4-5238-4307-9148-b5b8c9ab84ee"
      },
      "execution_count": 21,
      "outputs": [
        {
          "output_type": "stream",
          "name": "stdout",
          "text": [
            "1.177462465279831\n"
          ]
        }
      ]
    }
  ]
}