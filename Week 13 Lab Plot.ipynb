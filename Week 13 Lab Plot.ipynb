{
 "cells": [
  {
   "cell_type": "code",
   "execution_count": 119,
   "metadata": {},
   "outputs": [],
   "source": [
    "import math\n",
    "import numpy as np\n",
    "import pandas as pd\n",
    "from numpy.random import randn\n",
    "# This line allows plots to show in the Jupyter notebook\n",
    "%matplotlib inline\n",
    "import matplotlib.pyplot as plt\n",
    "from pylab import rcParams\n",
    "import io\n",
    "import statistics\n",
    "import matplotlib.patches as mpatches\n",
    "import requests"
   ]
  },
  {
   "cell_type": "code",
   "execution_count": 120,
   "metadata": {},
   "outputs": [
    {
     "name": "stdout",
     "output_type": "stream",
     "text": [
      "     Epoch time   Latitude   Longitude  Air Quality PM 2.5 (ug/m3)  \\\n",
      "0    1637188407  37.875755 -122.258890                         4.0   \n",
      "1    1637188414  37.875760 -122.258900                         4.0   \n",
      "2    1637188420  37.875763 -122.258895                         4.0   \n",
      "3    1637188427  37.875770 -122.258907                         4.0   \n",
      "4    1637188434  37.875788 -122.258958                         4.0   \n",
      "5    1637188441  37.875842 -122.258985                         5.0   \n",
      "6    1637188448  37.875950 -122.259027                         6.5   \n",
      "7    1637188454  37.876007 -122.259023                         7.0   \n",
      "8    1637188461  37.876027 -122.259017                         6.0   \n",
      "9    1637188468  37.876047 -122.259020                         7.0   \n",
      "10   1637188475  37.876050 -122.259030                         6.0   \n",
      "11   1637188483  37.876030 -122.259050                         6.0   \n",
      "12   1637188490  37.876027 -122.259057                         4.0   \n",
      "13   1637188497  37.876027 -122.259062                         4.0   \n",
      "14   1637188504  37.876018 -122.259083                         5.0   \n",
      "15   1637188511  37.876017 -122.259090                         5.0   \n",
      "16   1637188519  37.876008 -122.258998                         5.0   \n",
      "17   1637188526  37.876005 -122.258925                         4.0   \n",
      "18   1637188533  37.875980 -122.258797                         4.0   \n",
      "19   1637188540  37.876018 -122.258740                         4.0   \n",
      "20   1637188548  37.876038 -122.258672                         4.5   \n",
      "21   1637188555  37.876055 -122.258645                         5.0   \n",
      "22   1637188563  37.876042 -122.258638                         5.0   \n",
      "23   1637188570  37.876037 -122.258628                         5.0   \n",
      "24   1637188578  37.876035 -122.258610                         5.0   \n",
      "25   1637188586  37.876028 -122.258605                         5.0   \n",
      "26   1637188593  37.875968 -122.258643                         5.0   \n",
      "27   1637188601  37.875957 -122.258647                         4.5   \n",
      "28   1637188609  37.875960 -122.258635                         4.0   \n",
      "29   1637188616  37.876013 -122.258588                         4.0   \n",
      "..          ...        ...         ...                         ...   \n",
      "106  1637189344  37.877380 -122.257602                         4.0   \n",
      "107  1637189355  37.877348 -122.257458                         4.0   \n",
      "108  1637189366  37.877438 -122.257655                         4.0   \n",
      "109  1637189379  37.877458 -122.257685                         4.0   \n",
      "110  1637189390  37.877452 -122.257722                         4.0   \n",
      "111  1637189401  37.877452 -122.257730                         5.0   \n",
      "112  1637189413  37.877458 -122.257748                         6.0   \n",
      "113  1637189424  37.877465 -122.257755                         6.0   \n",
      "114  1637189435  37.877467 -122.257770                         5.0   \n",
      "115  1637189446  37.877467 -122.257777                         4.0   \n",
      "116  1637189458  37.877438 -122.257843                         4.0   \n",
      "117  1637189470  37.877392 -122.257937                         4.0   \n",
      "118  1637189481  37.877322 -122.258057                         4.0   \n",
      "119  1637189493  37.877277 -122.258245                         4.0   \n",
      "120  1637189505  37.877265 -122.258355                         5.0   \n",
      "121  1637189516  37.877237 -122.258485                         5.0   \n",
      "122  1637189528  37.877243 -122.258682                         5.0   \n",
      "123  1637189540  37.877143 -122.258760                         5.0   \n",
      "124  1637189551  37.877067 -122.258798                         5.0   \n",
      "125  1637189563  37.876922 -122.258765                         5.0   \n",
      "126  1637189575  37.876852 -122.258723                         5.0   \n",
      "127  1637189586  37.876808 -122.258688                         4.5   \n",
      "128  1637189599  37.876693 -122.258650                         4.0   \n",
      "129  1637189610  37.876597 -122.258665                         5.0   \n",
      "130  1637189623  37.876402 -122.258648                         5.0   \n",
      "131  1637189635  37.876282 -122.258565                         5.0   \n",
      "132  1637189648  37.876120 -122.258515                         5.0   \n",
      "133  1637189660  37.876025 -122.258493                         5.0   \n",
      "134  1637189673  37.876002 -122.258517                         5.0   \n",
      "135  1637189685  37.876027 -122.258542                         5.0   \n",
      "\n",
      "     Radiation (cps)  \n",
      "0               31.6  \n",
      "1               30.4  \n",
      "2               33.2  \n",
      "3               30.0  \n",
      "4               29.6  \n",
      "5               32.6  \n",
      "6               24.2  \n",
      "7               31.0  \n",
      "8               27.4  \n",
      "9               26.2  \n",
      "10              32.8  \n",
      "11              29.0  \n",
      "12              28.2  \n",
      "13              33.6  \n",
      "14              26.4  \n",
      "15              33.2  \n",
      "16              24.8  \n",
      "17              27.2  \n",
      "18              27.8  \n",
      "19              27.4  \n",
      "20              29.0  \n",
      "21              22.6  \n",
      "22              23.8  \n",
      "23              27.8  \n",
      "24              21.0  \n",
      "25              29.2  \n",
      "26              25.0  \n",
      "27              24.6  \n",
      "28              31.0  \n",
      "29              23.0  \n",
      "..               ...  \n",
      "106             32.8  \n",
      "107             33.8  \n",
      "108             30.2  \n",
      "109             34.2  \n",
      "110             39.2  \n",
      "111             32.4  \n",
      "112             34.4  \n",
      "113             39.2  \n",
      "114             30.0  \n",
      "115             37.6  \n",
      "116             33.6  \n",
      "117             29.6  \n",
      "118             28.6  \n",
      "119             25.2  \n",
      "120             28.8  \n",
      "121             25.2  \n",
      "122             23.0  \n",
      "123             23.4  \n",
      "124             21.6  \n",
      "125             27.0  \n",
      "126             28.0  \n",
      "127             27.8  \n",
      "128             24.8  \n",
      "129             21.6  \n",
      "130             25.8  \n",
      "131             25.4  \n",
      "132             24.8  \n",
      "133             23.2  \n",
      "134             21.6  \n",
      "135             14.8  \n",
      "\n",
      "[136 rows x 5 columns]\n"
     ]
    }
   ],
   "source": [
    "import pandas as pd\n",
    "\n",
    "GPS_DATA_1= pd.read_csv('GPS_GUI_Data_2021-11-17.csv')\n",
    "print(GPS_DATA_1)"
   ]
  },
  {
   "cell_type": "code",
   "execution_count": 121,
   "metadata": {},
   "outputs": [
    {
     "data": {
      "text/html": [
       "<div>\n",
       "<style scoped>\n",
       "    .dataframe tbody tr th:only-of-type {\n",
       "        vertical-align: middle;\n",
       "    }\n",
       "\n",
       "    .dataframe tbody tr th {\n",
       "        vertical-align: top;\n",
       "    }\n",
       "\n",
       "    .dataframe thead th {\n",
       "        text-align: right;\n",
       "    }\n",
       "</style>\n",
       "<table border=\"1\" class=\"dataframe\">\n",
       "  <thead>\n",
       "    <tr style=\"text-align: right;\">\n",
       "      <th></th>\n",
       "      <th>Epoch time</th>\n",
       "      <th>Latitude</th>\n",
       "      <th>Longitude</th>\n",
       "      <th>Air Quality PM 2.5 (ug/m3)</th>\n",
       "      <th>Radiation (cps)</th>\n",
       "    </tr>\n",
       "  </thead>\n",
       "  <tbody>\n",
       "    <tr>\n",
       "      <th>count</th>\n",
       "      <td>1.360000e+02</td>\n",
       "      <td>136.000000</td>\n",
       "      <td>136.000000</td>\n",
       "      <td>136.000000</td>\n",
       "      <td>136.000000</td>\n",
       "    </tr>\n",
       "    <tr>\n",
       "      <th>mean</th>\n",
       "      <td>1.637189e+09</td>\n",
       "      <td>37.876725</td>\n",
       "      <td>-122.258367</td>\n",
       "      <td>4.647059</td>\n",
       "      <td>28.632353</td>\n",
       "    </tr>\n",
       "    <tr>\n",
       "      <th>std</th>\n",
       "      <td>3.738804e+02</td>\n",
       "      <td>0.000585</td>\n",
       "      <td>0.000438</td>\n",
       "      <td>0.823537</td>\n",
       "      <td>4.704936</td>\n",
       "    </tr>\n",
       "    <tr>\n",
       "      <th>min</th>\n",
       "      <td>1.637188e+09</td>\n",
       "      <td>37.875755</td>\n",
       "      <td>-122.259090</td>\n",
       "      <td>3.000000</td>\n",
       "      <td>14.800000</td>\n",
       "    </tr>\n",
       "    <tr>\n",
       "      <th>25%</th>\n",
       "      <td>1.637189e+09</td>\n",
       "      <td>37.876116</td>\n",
       "      <td>-122.258647</td>\n",
       "      <td>4.000000</td>\n",
       "      <td>25.150000</td>\n",
       "    </tr>\n",
       "    <tr>\n",
       "      <th>50%</th>\n",
       "      <td>1.637189e+09</td>\n",
       "      <td>37.876808</td>\n",
       "      <td>-122.258482</td>\n",
       "      <td>4.000000</td>\n",
       "      <td>28.600000</td>\n",
       "    </tr>\n",
       "    <tr>\n",
       "      <th>75%</th>\n",
       "      <td>1.637189e+09</td>\n",
       "      <td>37.877360</td>\n",
       "      <td>-122.257927</td>\n",
       "      <td>5.000000</td>\n",
       "      <td>32.100000</td>\n",
       "    </tr>\n",
       "    <tr>\n",
       "      <th>max</th>\n",
       "      <td>1.637190e+09</td>\n",
       "      <td>37.877485</td>\n",
       "      <td>-122.257458</td>\n",
       "      <td>7.000000</td>\n",
       "      <td>40.600000</td>\n",
       "    </tr>\n",
       "  </tbody>\n",
       "</table>\n",
       "</div>"
      ],
      "text/plain": [
       "         Epoch time    Latitude   Longitude  Air Quality PM 2.5 (ug/m3)  \\\n",
       "count  1.360000e+02  136.000000  136.000000                  136.000000   \n",
       "mean   1.637189e+09   37.876725 -122.258367                    4.647059   \n",
       "std    3.738804e+02    0.000585    0.000438                    0.823537   \n",
       "min    1.637188e+09   37.875755 -122.259090                    3.000000   \n",
       "25%    1.637189e+09   37.876116 -122.258647                    4.000000   \n",
       "50%    1.637189e+09   37.876808 -122.258482                    4.000000   \n",
       "75%    1.637189e+09   37.877360 -122.257927                    5.000000   \n",
       "max    1.637190e+09   37.877485 -122.257458                    7.000000   \n",
       "\n",
       "       Radiation (cps)  \n",
       "count       136.000000  \n",
       "mean         28.632353  \n",
       "std           4.704936  \n",
       "min          14.800000  \n",
       "25%          25.150000  \n",
       "50%          28.600000  \n",
       "75%          32.100000  \n",
       "max          40.600000  "
      ]
     },
     "execution_count": 121,
     "metadata": {},
     "output_type": "execute_result"
    }
   ],
   "source": [
    "GPS_DATA_1.describe()"
   ]
  },
  {
   "cell_type": "code",
   "execution_count": 122,
   "metadata": {
    "scrolled": true
   },
   "outputs": [
    {
     "name": "stdout",
     "output_type": "stream",
     "text": [
      "     Epoch time  Latitude  Longitude  Air Quality PM 2.5 (ug/m3)  \\\n",
      "0    1635470477         0          0                         2.0   \n",
      "1    1635470484         0          0                         2.0   \n",
      "2    1635470492         0          0                         3.0   \n",
      "3    1635470498         0          0                         3.0   \n",
      "4    1635470505         0          0                         3.0   \n",
      "5    1635470512         0          0                         2.0   \n",
      "6    1635470519         0          0                         2.0   \n",
      "7    1635470527         0          0                         1.0   \n",
      "8    1635470534         0          0                         1.0   \n",
      "9    1635470541         0          0                         1.0   \n",
      "10   1635470548         0          0                         1.0   \n",
      "11   1635470555         0          0                         2.0   \n",
      "12   1635470562         0          0                         2.0   \n",
      "13   1635470569         0          0                         2.0   \n",
      "14   1635470576         0          0                         2.0   \n",
      "15   1635470583         0          0                         2.0   \n",
      "16   1635470591         0          0                         3.0   \n",
      "17   1635470599         0          0                         3.0   \n",
      "18   1635470606         0          0                         3.0   \n",
      "19   1635470614         0          0                         3.0   \n",
      "20   1635470621         0          0                         3.0   \n",
      "21   1635470628         0          0                         3.0   \n",
      "22   1635470636         0          0                         3.0   \n",
      "23   1635470643         0          0                         3.0   \n",
      "24   1635470651         0          0                         3.0   \n",
      "25   1635470658         0          0                         3.0   \n",
      "26   1635470666         0          0                         3.0   \n",
      "27   1635470674         0          0                         3.0   \n",
      "28   1635470683         0          0                         4.0   \n",
      "29   1635470691         0          0                         4.0   \n",
      "..          ...       ...        ...                         ...   \n",
      "107  1635471450         0          0                         5.0   \n",
      "108  1635471463         0          0                         5.0   \n",
      "109  1635471474         0          0                         4.0   \n",
      "110  1635471486         0          0                         5.0   \n",
      "111  1635471497         0          0                         4.0   \n",
      "112  1635471508         0          0                         5.0   \n",
      "113  1635471520         0          0                         5.0   \n",
      "114  1635471531         0          0                         5.0   \n",
      "115  1635471542         0          0                         5.0   \n",
      "116  1635471554         0          0                         5.0   \n",
      "117  1635471565         0          0                         5.0   \n",
      "118  1635471577         0          0                         5.0   \n",
      "119  1635471588         0          0                         5.0   \n",
      "120  1635471601         0          0                         4.5   \n",
      "121  1635471612         0          0                         4.0   \n",
      "122  1635471624         0          0                         4.0   \n",
      "123  1635471636         0          0                         4.0   \n",
      "124  1635471647         0          0                         5.0   \n",
      "125  1635471659         0          0                         5.0   \n",
      "126  1635471671         0          0                         5.0   \n",
      "127  1635471683         0          0                         5.0   \n",
      "128  1635471695         0          0                         5.0   \n",
      "129  1635471706         0          0                         4.0   \n",
      "130  1635471721         0          0                         3.0   \n",
      "131  1635471736         0          0                         3.0   \n",
      "132  1635471748         0          0                         3.0   \n",
      "133  1635471760         0          0                         3.0   \n",
      "134  1635471772         0          0                         3.0   \n",
      "135  1635471785         0          0                         3.0   \n",
      "136  1635471797         0          0                         4.0   \n",
      "\n",
      "     Radiation (cps)  \n",
      "0               34.2  \n",
      "1               32.4  \n",
      "2               31.8  \n",
      "3               31.8  \n",
      "4               30.0  \n",
      "5               30.8  \n",
      "6               30.2  \n",
      "7               34.0  \n",
      "8               34.0  \n",
      "9               30.4  \n",
      "10              29.6  \n",
      "11              31.8  \n",
      "12              29.6  \n",
      "13              30.6  \n",
      "14              27.0  \n",
      "15              30.2  \n",
      "16              26.6  \n",
      "17              30.2  \n",
      "18              25.0  \n",
      "19              25.8  \n",
      "20              26.8  \n",
      "21              28.8  \n",
      "22              26.4  \n",
      "23              26.2  \n",
      "24              25.8  \n",
      "25              23.4  \n",
      "26              25.0  \n",
      "27              27.0  \n",
      "28              23.8  \n",
      "29              27.0  \n",
      "..               ...  \n",
      "107             36.6  \n",
      "108             34.2  \n",
      "109             37.4  \n",
      "110             30.0  \n",
      "111             32.4  \n",
      "112             31.2  \n",
      "113             34.4  \n",
      "114             32.2  \n",
      "115             41.0  \n",
      "116             35.6  \n",
      "117             40.2  \n",
      "118             31.2  \n",
      "119             28.0  \n",
      "120             28.8  \n",
      "121             24.2  \n",
      "122             33.4  \n",
      "123             27.6  \n",
      "124             25.6  \n",
      "125             25.2  \n",
      "126             23.8  \n",
      "127             29.4  \n",
      "128             30.6  \n",
      "129             26.0  \n",
      "130             29.0  \n",
      "131             28.2  \n",
      "132             26.0  \n",
      "133             22.4  \n",
      "134             26.8  \n",
      "135             21.6  \n",
      "136             15.6  \n",
      "\n",
      "[137 rows x 5 columns]\n"
     ]
    }
   ],
   "source": [
    "import pandas as pd\n",
    "GPS_DATA_2= pd.read_csv('GPS_GUI_Data_2021-11-17-AR.csv')\n",
    "print (GPS_DATA_2)"
   ]
  },
  {
   "cell_type": "code",
   "execution_count": 123,
   "metadata": {},
   "outputs": [
    {
     "data": {
      "text/plain": [
       "Text(0.5,1,'radiations and location')"
      ]
     },
     "execution_count": 123,
     "metadata": {},
     "output_type": "execute_result"
    },
    {
     "data": {
      "image/png": "[encoded data removed]",
      "text/plain": [
       "<Figure size 432x288 with 1 Axes>"
      ]
     },
     "metadata": {
      "needs_background": "light"
     },
     "output_type": "display_data"
    }
   ],
   "source": [
    "%matplotlib inline\n",
    "import matplotlib.pyplot as plt \n",
    "GPS_DATA_1['Latitude'].plot() #blue\n",
    "GPS_DATA_1['Longitude'].plot() #orange\n",
    "GPS_DATA_1['Radiation (cps)'].plot() #green\n",
    "GPS_DATA_2['Radiation (cps)'].plot() #red\n",
    "orange_patch = mpatches.Patch(color='orange', label='Longitude')\n",
    "blue_patch= mpatches.Patch(color='blue', label='Latitude')\n",
    "green_patch = mpatches.Patch(color='green', label='Radiation 1')\n",
    "red_patch = mpatches.Patch(color='red', label='Radiation 2')\n",
    "plt.legend(handles=[orange_patch,blue_patch,green_patch,red_patch])\n",
    "#adding the time here ruins the scale\n",
    "#used 1 location data as the other one was zero\n",
    "plt.title('radiations and location')"
   ]
  },
  {
   "cell_type": "code",
   "execution_count": 139,
   "metadata": {},
   "outputs": [
    {
     "data": {
      "text/plain": [
       "<matplotlib.legend.Legend at 0x7fc4046541d0>"
      ]
     },
     "execution_count": 139,
     "metadata": {},
     "output_type": "execute_result"
    },
    {
     "data": {
      "image/png": "[encoded data removed]",
      "text/plain": [
       "<Figure size 432x288 with 1 Axes>"
      ]
     },
     "metadata": {
      "needs_background": "light"
     },
     "output_type": "display_data"
    }
   ],
   "source": [
    "GPS_DATA_1['Latitude'].plot() #blue\n",
    "GPS_DATA_1['Longitude'].plot() #orange\n",
    "GPS_DATA_1['Air Quality PM 2.5 (ug/m3)'].plot() #green\n",
    "orange_patch = mpatches.Patch(color='orange', label='Longitude')\n",
    "blue_patch= mpatches.Patch(color='blue', label='Latitude')\n",
    "green_patch = mpatches.Patch(color='green', label='Air Quality')\n",
    "plt.legend(handles=[orange_patch,blue_patch, green_patch])"
   ]
  },
  {
   "cell_type": "code",
   "execution_count": 124,
   "metadata": {},
   "outputs": [
    {
     "ename": "SyntaxError",
     "evalue": "invalid syntax (<ipython-input-124-4d91e272bc48>, line 5)",
     "output_type": "error",
     "traceback": [
      "\u001b[0;36m  File \u001b[0;32m\"<ipython-input-124-4d91e272bc48>\"\u001b[0;36m, line \u001b[0;32m5\u001b[0m\n\u001b[0;31m    orange_patch = mpatches.Patch(c olor='orange', label='Radiation 1')\u001b[0m\n\u001b[0m                                       ^\u001b[0m\n\u001b[0;31mSyntaxError\u001b[0m\u001b[0;31m:\u001b[0m invalid syntax\n"
     ]
    }
   ],
   "source": [
    "plt.hist(GPS_DATA_1['Radiation (cps)'])\n",
    "plt.hist(GPS_DATA_2['Radiation (cps)'])\n",
    "plt.ylabel('Frequency')\n",
    "plt.xlabel('Counts Per Minute')\n",
    "orange_patch = mpatches.Patch(c olor='orange', label='Radiation 1')\n",
    "blue_patch= mpatches.Patch(color='blue', label='Radiation 2')\n",
    "plt.legend(handles=[orange_patch,blue_patch])"
   ]
  },
  {
   "cell_type": "code",
   "execution_count": 125,
   "metadata": {},
   "outputs": [
    {
     "data": {
      "text/plain": [
       "Text(0.5,0,'Counts Per Minute')"
      ]
     },
     "execution_count": 125,
     "metadata": {},
     "output_type": "execute_result"
    },
    {
     "data": {
      "image/png": "[encoded data removed]",
      "text/plain": [
       "<Figure size 432x288 with 1 Axes>"
      ]
     },
     "metadata": {
      "needs_background": "light"
     },
     "output_type": "display_data"
    }
   ],
   "source": [
    "plt.hist(GPS_DATA_1['Radiation (cps)'])\n",
    "plt.ylabel('Frequency')\n",
    "plt.xlabel('Counts Per Minute')"
   ]
  },
  {
   "cell_type": "code",
   "execution_count": 126,
   "metadata": {
    "scrolled": true
   },
   "outputs": [
    {
     "name": "stdout",
     "output_type": "stream",
     "text": [
      "Mean of data is: 28.63235294117647\n",
      "Standard deviation of data is: 4.7049364517760015\n"
     ]
    }
   ],
   "source": [
    "Mean1= statistics.mean(GPS_DATA_1['Radiation (cps)'])\n",
    "Standard_dev1= statistics.stdev(GPS_DATA_1['Radiation (cps)'])\n",
    "print('Mean of data is:',Mean1)\n",
    "print('Standard deviation of data is:',Standard_dev1)"
   ]
  },
  {
   "cell_type": "code",
   "execution_count": 127,
   "metadata": {},
   "outputs": [
    {
     "data": {
      "text/plain": [
       "Text(0.5,0,'Counts Per Minute')"
      ]
     },
     "execution_count": 127,
     "metadata": {},
     "output_type": "execute_result"
    },
    {
     "data": {
      "image/png": "[encoded data removed]",
      "text/plain": [
       "<Figure size 432x288 with 1 Axes>"
      ]
     },
     "metadata": {
      "needs_background": "light"
     },
     "output_type": "display_data"
    }
   ],
   "source": [
    "plt.hist(GPS_DATA_2['Radiation (cps)'])\n",
    "plt.ylabel('Frequency')\n",
    "plt.xlabel('Counts Per Minute')"
   ]
  },
  {
   "cell_type": "code",
   "execution_count": 128,
   "metadata": {},
   "outputs": [
    {
     "name": "stdout",
     "output_type": "stream",
     "text": [
      "Mean of data is: 28.72992700729927\n",
      "Standard deviation of data is: 4.175459907101176\n"
     ]
    }
   ],
   "source": [
    "Mean2= statistics.mean(GPS_DATA_2['Radiation (cps)'])\n",
    "Standard_dev2= statistics.stdev(GPS_DATA_2['Radiation (cps)'])\n",
    "print('Mean of data is:',Mean2)\n",
    "print('Standard deviation of data is:',Standard_dev2)"
   ]
  },
  {
   "cell_type": "code",
   "execution_count": 129,
   "metadata": {},
   "outputs": [
    {
     "name": "stdout",
     "output_type": "stream",
     "text": [
      "The uncertainty for the first set of Data is: 5.350920756391041\n",
      "The uncertainty for the second set of Data is: 5.360030504325444\n"
     ]
    }
   ],
   "source": [
    "Uncertainty1= math.sqrt(Mean1)\n",
    "Uncertainty2= math.sqrt(Mean2)\n",
    "\n",
    "print('The uncertainty for the first set of Data is:', Uncertainty1)\n",
    "print('The uncertainty for the second set of Data is:', Uncertainty2)"
   ]
  },
  {
   "cell_type": "code",
   "execution_count": 130,
   "metadata": {},
   "outputs": [
    {
     "name": "stdout",
     "output_type": "stream",
     "text": [
      " Both sets of Data statistically agree with each other as the difference is very small, the uncertainty for both sets was around 5 which is a little higher than both standard deviations\n"
     ]
    }
   ],
   "source": [
    "print(' Both sets of Data statistically agree with each other as the difference is very small, the uncertainty for both sets was around 5 which is a little higher than both standard deviations')"
   ]
  },
  {
   "cell_type": "code",
   "execution_count": 131,
   "metadata": {},
   "outputs": [
    {
     "name": "stdout",
     "output_type": "stream",
     "text": [
      "1.110018148519851\n"
     ]
    }
   ],
   "source": [
    "Uncertainty_stndev1= (Uncertainty1/math.sqrt(2*11.61895003862225))\n",
    "print(Uncertainty_stndev1)"
   ]
  },
  {
   "cell_type": "code",
   "execution_count": 132,
   "metadata": {},
   "outputs": [
    {
     "name": "stdout",
     "output_type": "stream",
     "text": [
      "1.109858305483112\n"
     ]
    }
   ],
   "source": [
    "Uncertainty_stndev2= (Uncertainty2/math.sqrt(2*11.661903789690601))\n",
    "print(Uncertainty_stndev2)"
   ]
  },
  {
   "cell_type": "code",
   "execution_count": 133,
   "metadata": {},
   "outputs": [
    {
     "name": "stdout",
     "output_type": "stream",
     "text": [
      "No, the variation I saw is expected, I think becuae of the similarity of the counts both data sets come from the same source!\n"
     ]
    }
   ],
   "source": [
    "#e From your estimate of the expected variance, and the uncertainty on that estimate, \n",
    "#did you see more variation in the data than you would expect \n",
    "#from simple counting statistics? \n",
    "#What does this imply about the sources of radiation contributing to your data?\n",
    "\n",
    "print ('No, the variation I saw is expected, I think becuae of the similarity of the counts both data sets come from the same source!')\n",
    "\n",
    "\n"
   ]
  },
  {
   "cell_type": "code",
   "execution_count": null,
   "metadata": {},
   "outputs": [],
   "source": []
  }
 ],
 "metadata": {
  "kernelspec": {
   "display_name": "Python 3",
   "language": "python",
   "name": "python3"
  },
  "language_info": {
   "codemirror_mode": {
    "name": "ipython",
    "version": 3
   },
   "file_extension": ".py",
   "mimetype": "text/x-python",
   "name": "python",
   "nbconvert_exporter": "python",
   "pygments_lexer": "ipython3",
   "version": "3.7.2"
  }
 },
 "nbformat": 4,
 "nbformat_minor": 5
}
